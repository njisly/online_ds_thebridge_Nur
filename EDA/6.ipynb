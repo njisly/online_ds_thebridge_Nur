{
 "cells": [
  {
   "cell_type": "code",
   "execution_count": 78,
   "metadata": {},
   "outputs": [],
   "source": [
    "import pandas as pd"
   ]
  },
  {
   "cell_type": "code",
   "execution_count": 79,
   "metadata": {},
   "outputs": [],
   "source": [
    "df_best_picture = pd.read_csv(\"./data/best_picture.csv\")\n",
    "df_movie_data = pd.read_csv(\"./data/movie_data_final.csv\")\n",
    "df_ratings = pd.read_csv(\"./data/ratings.csv\")\n",
    "df_duracion = pd.read_csv(\"./data/duracion.csv\")"
   ]
  },
  {
   "cell_type": "code",
   "execution_count": 80,
   "metadata": {},
   "outputs": [
    {
     "name": "stdout",
     "output_type": "stream",
     "text": [
      "<class 'pandas.core.frame.DataFrame'>\n",
      "RangeIndex: 591 entries, 0 to 590\n",
      "Data columns (total 6 columns):\n",
      " #   Column         Non-Null Count  Dtype \n",
      "---  ------         --------------  ----- \n",
      " 0   year_film      591 non-null    int64 \n",
      " 1   year_ceremony  591 non-null    int64 \n",
      " 2   ceremony       591 non-null    int64 \n",
      " 3   name           591 non-null    object\n",
      " 4   film           591 non-null    object\n",
      " 5   winner         591 non-null    bool  \n",
      "dtypes: bool(1), int64(3), object(2)\n",
      "memory usage: 23.8+ KB\n"
     ]
    }
   ],
   "source": [
    "df_best_picture.info()"
   ]
  },
  {
   "cell_type": "code",
   "execution_count": 81,
   "metadata": {},
   "outputs": [
    {
     "name": "stdout",
     "output_type": "stream",
     "text": [
      "<class 'pandas.core.frame.DataFrame'>\n",
      "RangeIndex: 591 entries, 0 to 590\n",
      "Data columns (total 7 columns):\n",
      " #   Column             Non-Null Count  Dtype  \n",
      "---  ------             --------------  -----  \n",
      " 0   original_language  591 non-null    object \n",
      " 1   original_title     591 non-null    object \n",
      " 2   overview           591 non-null    object \n",
      " 3   release_date       591 non-null    object \n",
      " 4   title              591 non-null    object \n",
      " 5   vote_average       591 non-null    float64\n",
      " 6   genre              591 non-null    object \n",
      "dtypes: float64(1), object(6)\n",
      "memory usage: 32.4+ KB\n"
     ]
    }
   ],
   "source": [
    "df_movie_data.info()"
   ]
  },
  {
   "cell_type": "code",
   "execution_count": 82,
   "metadata": {},
   "outputs": [
    {
     "name": "stdout",
     "output_type": "stream",
     "text": [
      "<class 'pandas.core.frame.DataFrame'>\n",
      "RangeIndex: 591 entries, 0 to 590\n",
      "Data columns (total 2 columns):\n",
      " #   Column  Non-Null Count  Dtype  \n",
      "---  ------  --------------  -----  \n",
      " 0   title   582 non-null    object \n",
      " 1   rating  581 non-null    float64\n",
      "dtypes: float64(1), object(1)\n",
      "memory usage: 9.4+ KB\n"
     ]
    }
   ],
   "source": [
    "df_ratings.info()"
   ]
  },
  {
   "cell_type": "code",
   "execution_count": 83,
   "metadata": {},
   "outputs": [
    {
     "name": "stdout",
     "output_type": "stream",
     "text": [
      "<class 'pandas.core.frame.DataFrame'>\n",
      "RangeIndex: 591 entries, 0 to 590\n",
      "Data columns (total 2 columns):\n",
      " #   Column    Non-Null Count  Dtype  \n",
      "---  ------    --------------  -----  \n",
      " 0   title     582 non-null    object \n",
      " 1   duration  582 non-null    float64\n",
      "dtypes: float64(1), object(1)\n",
      "memory usage: 9.4+ KB\n"
     ]
    }
   ],
   "source": [
    "df_duracion.info()"
   ]
  },
  {
   "cell_type": "code",
   "execution_count": 84,
   "metadata": {},
   "outputs": [],
   "source": [
    "df_final = pd.concat([df_best_picture, df_movie_data, df_ratings, df_duracion], axis=1)"
   ]
  },
  {
   "cell_type": "code",
   "execution_count": 85,
   "metadata": {},
   "outputs": [
    {
     "name": "stdout",
     "output_type": "stream",
     "text": [
      "<class 'pandas.core.frame.DataFrame'>\n",
      "RangeIndex: 591 entries, 0 to 590\n",
      "Data columns (total 17 columns):\n",
      " #   Column             Non-Null Count  Dtype  \n",
      "---  ------             --------------  -----  \n",
      " 0   year_film          591 non-null    int64  \n",
      " 1   year_ceremony      591 non-null    int64  \n",
      " 2   ceremony           591 non-null    int64  \n",
      " 3   name               591 non-null    object \n",
      " 4   film               591 non-null    object \n",
      " 5   winner             591 non-null    bool   \n",
      " 6   original_language  591 non-null    object \n",
      " 7   original_title     591 non-null    object \n",
      " 8   overview           591 non-null    object \n",
      " 9   release_date       591 non-null    object \n",
      " 10  title              591 non-null    object \n",
      " 11  vote_average       591 non-null    float64\n",
      " 12  genre              591 non-null    object \n",
      " 13  title              582 non-null    object \n",
      " 14  rating             581 non-null    float64\n",
      " 15  title              582 non-null    object \n",
      " 16  duration           582 non-null    float64\n",
      "dtypes: bool(1), float64(3), int64(3), object(10)\n",
      "memory usage: 74.6+ KB\n"
     ]
    }
   ],
   "source": [
    "df_final.info()"
   ]
  },
  {
   "cell_type": "code",
   "execution_count": 86,
   "metadata": {},
   "outputs": [],
   "source": [
    "df_final.drop(columns=[\"name\", \"overview\"], inplace=True)"
   ]
  },
  {
   "cell_type": "code",
   "execution_count": 87,
   "metadata": {},
   "outputs": [],
   "source": [
    "df_final.drop(columns=\"title\", inplace=True)"
   ]
  },
  {
   "cell_type": "code",
   "execution_count": 88,
   "metadata": {},
   "outputs": [
    {
     "data": {
      "text/html": [
       "<div>\n",
       "<style scoped>\n",
       "    .dataframe tbody tr th:only-of-type {\n",
       "        vertical-align: middle;\n",
       "    }\n",
       "\n",
       "    .dataframe tbody tr th {\n",
       "        vertical-align: top;\n",
       "    }\n",
       "\n",
       "    .dataframe thead th {\n",
       "        text-align: right;\n",
       "    }\n",
       "</style>\n",
       "<table border=\"1\" class=\"dataframe\">\n",
       "  <thead>\n",
       "    <tr style=\"text-align: right;\">\n",
       "      <th></th>\n",
       "      <th>year_film</th>\n",
       "      <th>year_ceremony</th>\n",
       "      <th>ceremony</th>\n",
       "      <th>film</th>\n",
       "      <th>winner</th>\n",
       "      <th>original_language</th>\n",
       "      <th>original_title</th>\n",
       "      <th>release_date</th>\n",
       "      <th>vote_average</th>\n",
       "      <th>genre</th>\n",
       "      <th>rating</th>\n",
       "      <th>duration</th>\n",
       "    </tr>\n",
       "  </thead>\n",
       "  <tbody>\n",
       "    <tr>\n",
       "      <th>0</th>\n",
       "      <td>1927</td>\n",
       "      <td>1928</td>\n",
       "      <td>1</td>\n",
       "      <td>The Racket</td>\n",
       "      <td>False</td>\n",
       "      <td>en</td>\n",
       "      <td>The Racket</td>\n",
       "      <td>1928-11-01</td>\n",
       "      <td>6.400</td>\n",
       "      <td>['Crime', 'Drama']</td>\n",
       "      <td>6.6</td>\n",
       "      <td>84.0</td>\n",
       "    </tr>\n",
       "    <tr>\n",
       "      <th>1</th>\n",
       "      <td>1927</td>\n",
       "      <td>1928</td>\n",
       "      <td>1</td>\n",
       "      <td>7th Heaven</td>\n",
       "      <td>False</td>\n",
       "      <td>en</td>\n",
       "      <td>7th Heaven</td>\n",
       "      <td>1927-09-10</td>\n",
       "      <td>7.317</td>\n",
       "      <td>['Drama', 'Romance']</td>\n",
       "      <td>7.6</td>\n",
       "      <td>110.0</td>\n",
       "    </tr>\n",
       "    <tr>\n",
       "      <th>2</th>\n",
       "      <td>1927</td>\n",
       "      <td>1928</td>\n",
       "      <td>1</td>\n",
       "      <td>Wings</td>\n",
       "      <td>True</td>\n",
       "      <td>en</td>\n",
       "      <td>Wings</td>\n",
       "      <td>1927-08-12</td>\n",
       "      <td>7.198</td>\n",
       "      <td>['Drama', 'Action', 'War', 'Romance']</td>\n",
       "      <td>7.5</td>\n",
       "      <td>144.0</td>\n",
       "    </tr>\n",
       "    <tr>\n",
       "      <th>3</th>\n",
       "      <td>1928</td>\n",
       "      <td>1929</td>\n",
       "      <td>2</td>\n",
       "      <td>Alibi</td>\n",
       "      <td>False</td>\n",
       "      <td>en</td>\n",
       "      <td>Alibi</td>\n",
       "      <td>1929-04-20</td>\n",
       "      <td>5.656</td>\n",
       "      <td>['Action', 'Crime', 'Thriller']</td>\n",
       "      <td>5.7</td>\n",
       "      <td>91.0</td>\n",
       "    </tr>\n",
       "    <tr>\n",
       "      <th>4</th>\n",
       "      <td>1928</td>\n",
       "      <td>1929</td>\n",
       "      <td>2</td>\n",
       "      <td>In Old Arizona</td>\n",
       "      <td>False</td>\n",
       "      <td>en</td>\n",
       "      <td>In Old Arizona</td>\n",
       "      <td>1928-12-25</td>\n",
       "      <td>5.208</td>\n",
       "      <td>['Action', 'Western']</td>\n",
       "      <td>5.5</td>\n",
       "      <td>95.0</td>\n",
       "    </tr>\n",
       "    <tr>\n",
       "      <th>...</th>\n",
       "      <td>...</td>\n",
       "      <td>...</td>\n",
       "      <td>...</td>\n",
       "      <td>...</td>\n",
       "      <td>...</td>\n",
       "      <td>...</td>\n",
       "      <td>...</td>\n",
       "      <td>...</td>\n",
       "      <td>...</td>\n",
       "      <td>...</td>\n",
       "      <td>...</td>\n",
       "      <td>...</td>\n",
       "    </tr>\n",
       "    <tr>\n",
       "      <th>586</th>\n",
       "      <td>2022</td>\n",
       "      <td>2023</td>\n",
       "      <td>95</td>\n",
       "      <td>The Fabelmans</td>\n",
       "      <td>False</td>\n",
       "      <td>en</td>\n",
       "      <td>The Fabelmans</td>\n",
       "      <td>2022-11-11</td>\n",
       "      <td>7.692</td>\n",
       "      <td>['Drama', 'Comedy']</td>\n",
       "      <td>7.5</td>\n",
       "      <td>151.0</td>\n",
       "    </tr>\n",
       "    <tr>\n",
       "      <th>587</th>\n",
       "      <td>2022</td>\n",
       "      <td>2023</td>\n",
       "      <td>95</td>\n",
       "      <td>Tár</td>\n",
       "      <td>False</td>\n",
       "      <td>en</td>\n",
       "      <td>TÁR</td>\n",
       "      <td>2022-09-23</td>\n",
       "      <td>7.143</td>\n",
       "      <td>['Drama', 'Music']</td>\n",
       "      <td>7.4</td>\n",
       "      <td>158.0</td>\n",
       "    </tr>\n",
       "    <tr>\n",
       "      <th>588</th>\n",
       "      <td>2022</td>\n",
       "      <td>2023</td>\n",
       "      <td>95</td>\n",
       "      <td>Top Gun: Maverick</td>\n",
       "      <td>False</td>\n",
       "      <td>en</td>\n",
       "      <td>Top Gun: Maverick</td>\n",
       "      <td>2022-05-24</td>\n",
       "      <td>8.237</td>\n",
       "      <td>['Action', 'Drama']</td>\n",
       "      <td>8.3</td>\n",
       "      <td>130.0</td>\n",
       "    </tr>\n",
       "    <tr>\n",
       "      <th>589</th>\n",
       "      <td>2022</td>\n",
       "      <td>2023</td>\n",
       "      <td>95</td>\n",
       "      <td>Triangle of Sadness</td>\n",
       "      <td>False</td>\n",
       "      <td>en</td>\n",
       "      <td>Triangle of Sadness</td>\n",
       "      <td>2022-09-18</td>\n",
       "      <td>7.116</td>\n",
       "      <td>['Comedy', 'Drama']</td>\n",
       "      <td>7.3</td>\n",
       "      <td>147.0</td>\n",
       "    </tr>\n",
       "    <tr>\n",
       "      <th>590</th>\n",
       "      <td>2022</td>\n",
       "      <td>2023</td>\n",
       "      <td>95</td>\n",
       "      <td>Women Talking</td>\n",
       "      <td>False</td>\n",
       "      <td>en</td>\n",
       "      <td>Women Talking</td>\n",
       "      <td>2022-12-23</td>\n",
       "      <td>6.908</td>\n",
       "      <td>['Drama', 'Crime']</td>\n",
       "      <td>6.9</td>\n",
       "      <td>104.0</td>\n",
       "    </tr>\n",
       "  </tbody>\n",
       "</table>\n",
       "<p>591 rows × 12 columns</p>\n",
       "</div>"
      ],
      "text/plain": [
       "     year_film  year_ceremony  ceremony                 film  winner  \\\n",
       "0         1927           1928         1           The Racket   False   \n",
       "1         1927           1928         1           7th Heaven   False   \n",
       "2         1927           1928         1                Wings    True   \n",
       "3         1928           1929         2                Alibi   False   \n",
       "4         1928           1929         2       In Old Arizona   False   \n",
       "..         ...            ...       ...                  ...     ...   \n",
       "586       2022           2023        95        The Fabelmans   False   \n",
       "587       2022           2023        95                  Tár   False   \n",
       "588       2022           2023        95    Top Gun: Maverick   False   \n",
       "589       2022           2023        95  Triangle of Sadness   False   \n",
       "590       2022           2023        95        Women Talking   False   \n",
       "\n",
       "    original_language       original_title release_date  vote_average  \\\n",
       "0                  en           The Racket   1928-11-01         6.400   \n",
       "1                  en           7th Heaven   1927-09-10         7.317   \n",
       "2                  en                Wings   1927-08-12         7.198   \n",
       "3                  en                Alibi   1929-04-20         5.656   \n",
       "4                  en       In Old Arizona   1928-12-25         5.208   \n",
       "..                ...                  ...          ...           ...   \n",
       "586                en        The Fabelmans   2022-11-11         7.692   \n",
       "587                en                  TÁR   2022-09-23         7.143   \n",
       "588                en    Top Gun: Maverick   2022-05-24         8.237   \n",
       "589                en  Triangle of Sadness   2022-09-18         7.116   \n",
       "590                en        Women Talking   2022-12-23         6.908   \n",
       "\n",
       "                                     genre  rating  duration  \n",
       "0                       ['Crime', 'Drama']     6.6      84.0  \n",
       "1                     ['Drama', 'Romance']     7.6     110.0  \n",
       "2    ['Drama', 'Action', 'War', 'Romance']     7.5     144.0  \n",
       "3          ['Action', 'Crime', 'Thriller']     5.7      91.0  \n",
       "4                    ['Action', 'Western']     5.5      95.0  \n",
       "..                                     ...     ...       ...  \n",
       "586                    ['Drama', 'Comedy']     7.5     151.0  \n",
       "587                     ['Drama', 'Music']     7.4     158.0  \n",
       "588                    ['Action', 'Drama']     8.3     130.0  \n",
       "589                    ['Comedy', 'Drama']     7.3     147.0  \n",
       "590                     ['Drama', 'Crime']     6.9     104.0  \n",
       "\n",
       "[591 rows x 12 columns]"
      ]
     },
     "execution_count": 88,
     "metadata": {},
     "output_type": "execute_result"
    }
   ],
   "source": [
    "df_final"
   ]
  },
  {
   "cell_type": "code",
   "execution_count": 89,
   "metadata": {},
   "outputs": [
    {
     "name": "stdout",
     "output_type": "stream",
     "text": [
      "<class 'pandas.core.frame.DataFrame'>\n",
      "RangeIndex: 591 entries, 0 to 590\n",
      "Data columns (total 12 columns):\n",
      " #   Column             Non-Null Count  Dtype  \n",
      "---  ------             --------------  -----  \n",
      " 0   year_film          591 non-null    int64  \n",
      " 1   year_ceremony      591 non-null    int64  \n",
      " 2   ceremony           591 non-null    int64  \n",
      " 3   film               591 non-null    object \n",
      " 4   winner             591 non-null    bool   \n",
      " 5   original_language  591 non-null    object \n",
      " 6   original_title     591 non-null    object \n",
      " 7   release_date       591 non-null    object \n",
      " 8   vote_average       591 non-null    float64\n",
      " 9   genre              591 non-null    object \n",
      " 10  rating             581 non-null    float64\n",
      " 11  duration           582 non-null    float64\n",
      "dtypes: bool(1), float64(3), int64(3), object(5)\n",
      "memory usage: 51.5+ KB\n"
     ]
    }
   ],
   "source": [
    "df_final.info()"
   ]
  },
  {
   "cell_type": "code",
   "execution_count": 93,
   "metadata": {},
   "outputs": [],
   "source": [
    "df_final.to_csv(\"./data/df_final.csv\", index=False)"
   ]
  }
 ],
 "metadata": {
  "kernelspec": {
   "display_name": "Python 3",
   "language": "python",
   "name": "python3"
  },
  "language_info": {
   "codemirror_mode": {
    "name": "ipython",
    "version": 3
   },
   "file_extension": ".py",
   "mimetype": "text/x-python",
   "name": "python",
   "nbconvert_exporter": "python",
   "pygments_lexer": "ipython3",
   "version": "3.11.3"
  }
 },
 "nbformat": 4,
 "nbformat_minor": 2
}
