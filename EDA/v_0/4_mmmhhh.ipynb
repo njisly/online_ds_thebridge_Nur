{
 "cells": [
  {
   "cell_type": "code",
   "execution_count": null,
   "metadata": {},
   "outputs": [],
   "source": [
    "import pandas as pd \n",
    "import json"
   ]
  },
  {
   "cell_type": "code",
   "execution_count": null,
   "metadata": {},
   "outputs": [],
   "source": [
    "movie_data = []\n",
    "base_url = \"https://api.themoviedb.org/3/search/movie?\"\n",
    "\n",
    "for index, row in df_best_picture.iterrows():\n",
    "    # Obtener el nombre de la película y el año de la fila actual\n",
    "    name = row['film'].replace(\" \", \"%20\")\n",
    "    year = row['year_film']\n",
    "\n",
    "    # Construir la URL con los parámetros de la búsqueda\n",
    "    url = f\"{base_url}query={name}&include_adult=false&language=en-US&page=1&year={year}\"\n",
    "\n",
    "    # Configurar los encabezados con el token de autenticación\n",
    "    headers = {\n",
    "        \"accept\": \"application/json\",\n",
    "        \"Authorization\": f\"Bearer {token}\"\n",
    "    }\n",
    "\n",
    "    # Realizar la solicitud a la API\n",
    "    response = requests.get(url, headers=headers)\n",
    "    time.sleep(1/50)\n",
    "    \n",
    "    # Que el titulo del resultado sea exactamente el mismo q el del df\n",
    "    for result in response.json()['results']:\n",
    "        if result['title'] == row['film']:\n",
    "            movie_data.append(result)\n",
    "\n",
    "# Ahora movie_data contiene la información de todas las películas en df_best_picture\n"
   ]
  }
 ],
 "metadata": {
  "language_info": {
   "name": "python"
  }
 },
 "nbformat": 4,
 "nbformat_minor": 2
}
