{
 "cells": [
  {
   "cell_type": "markdown",
   "id": "263285b6-ef32-41ed-a9a9-0dd77a587543",
   "metadata": {},
   "source": [
    "# Python basics\n"
   ]
  },
  {
   "cell_type": "markdown",
   "id": "ecf515f6-4313-49b0-a803-c3e7d3279d64",
   "metadata": {},
   "source": [
    "##### se pueden realizar conversiones entre tipos de datos\n",
    "ojo!! se pueden perder datos o dar error al no ser compatible el cambio\n",
    "\n",
    " - al convertir de float a int perdemos decimales\n",
    " - para pasar de numero a string y viceversa no hay problema\n",
    " - de bool a num y viceversa --> 0 es False y lo demás es True\n",
    " - de str a bool --> los strings vacíos son False y lo demás es True\n",
    " - de bool a str --> True pasará a ser una cadena de texto True"
   ]
  },
  {
   "cell_type": "markdown",
   "id": "7275c6e5-a4bd-4a3f-a528-be217dea8165",
   "metadata": {},
   "source": [
    "##### errores en conversion de tipos"
   ]
  },
  {
   "cell_type": "code",
   "execution_count": 3,
   "id": "bbfc49a9-c3d8-4b04-8dbf-f36505d8cf3b",
   "metadata": {},
   "outputs": [
    {
     "ename": "NameError",
     "evalue": "name 'real_string' is not defined",
     "output_type": "error",
     "traceback": [
      "\u001b[1;31m---------------------------------------------------------------------------\u001b[0m",
      "\u001b[1;31mNameError\u001b[0m                                 Traceback (most recent call last)",
      "Cell \u001b[1;32mIn[3], line 2\u001b[0m\n\u001b[0;32m      1\u001b[0m real_str \u001b[38;5;241m=\u001b[39m \u001b[38;5;124m\"\u001b[39m\u001b[38;5;124m68,34\u001b[39m\u001b[38;5;124m\"\u001b[39m \u001b[38;5;66;03m# da error pq es una COMA y no un PUNTO\u001b[39;00m\n\u001b[1;32m----> 2\u001b[0m real \u001b[38;5;241m=\u001b[39m \u001b[38;5;28mfloat\u001b[39m(\u001b[43mreal_string\u001b[49m)\n",
      "\u001b[1;31mNameError\u001b[0m: name 'real_string' is not defined"
     ]
    }
   ],
   "source": [
    "real_str = \"68,34\" # da error pq es una COMA y no un PUNTO\n",
    "real = float(real_string)"
   ]
  },
  {
   "cell_type": "code",
   "execution_count": 4,
   "id": "a4bb49cb-c401-4c45-bc27-5059bfa43325",
   "metadata": {},
   "outputs": [],
   "source": [
    "nuevo_str = real_str.replace(\",\",\".\") #este metodo reemplaza las comas por puntos\n",
    "real = float(nuevo_str)"
   ]
  },
  {
   "cell_type": "markdown",
   "id": "ea0a6605-294d-421b-b726-e678745a281a",
   "metadata": {},
   "source": [
    "## input"
   ]
  },
  {
   "cell_type": "code",
   "execution_count": 5,
   "id": "f33774e5-8b36-40b0-a0c5-fab747088d68",
   "metadata": {},
   "outputs": [
    {
     "name": "stdin",
     "output_type": "stream",
     "text": [
      "hey\n",
      " p\n"
     ]
    }
   ],
   "source": [
    "primero = input(\"hey\\n\")"
   ]
  },
  {
   "cell_type": "markdown",
   "id": "8b2d4691-9dde-475a-93ed-4b37c09a5cbf",
   "metadata": {},
   "source": [
    "## Best practices\n",
    "- caracteres: no usar ñ, @...\n",
    "- espacios: no se usan espacios en los nombres pero si entre comandos para hacer el codigo más legible\n",
    "- las constantes (variables que no van a cambiar nunca) --> Mayúscula\n",
    "- cada sentencia en una linea\n",
    "- comentarios: todos los que se pueda\n",
    "- case sensitive: sensible a mayus i minus\n",
    "- sintaxis de linea: para una correcta lectura \n"
   ]
  },
  {
   "cell_type": "code",
   "execution_count": 6,
   "id": "8773cb3e-6c58-40c4-a4ea-1dd8036ac693",
   "metadata": {},
   "outputs": [],
   "source": [
    "#sintaxis de linea\n",
    "lista_compra= [\"manzanas\",\n",
    "               \"galletas\",\n",
    "               \"pollo\"]\n"
   ]
  },
  {
   "cell_type": "markdown",
   "id": "1a303646-a26f-483b-accc-e9bf704f00e0",
   "metadata": {},
   "source": [
    "## operaciones aritmeticas"
   ]
  },
  {
   "cell_type": "markdown",
   "id": "c0753bd0-5659-49cb-b44c-9e419fbac4e0",
   "metadata": {},
   "source": [
    "si salimos de las operaciones basicas de python tendremos que importar modulos con mas funcionalidades  \n",
    "`import math`  \n",
    "es un modulo con funciones ya predefinidas"
   ]
  },
  {
   "cell_type": "code",
   "execution_count": 7,
   "id": "f2af0dc0-63e6-404d-8d6f-300891d9d7af",
   "metadata": {},
   "outputs": [
    {
     "name": "stdout",
     "output_type": "stream",
     "text": [
      "5.0\n",
      "1.0\n"
     ]
    }
   ],
   "source": [
    "import math\n",
    "print(math.sqrt(25))\n",
    "print(math.cos(0))"
   ]
  },
  {
   "cell_type": "markdown",
   "id": "e962e900-5316-4efa-97ba-d97ef78865e0",
   "metadata": {},
   "source": [
    "### errores\n",
    "division by zero\n",
    "sqrt de numeros negativos"
   ]
  },
  {
   "cell_type": "markdown",
   "id": "9d11e029-99a7-4cd4-98d9-f4c7ae38ae21",
   "metadata": {},
   "source": [
    "## operaciones booleanas\n",
    "\n",
    "| A     | B     | A and B | A or B  | not A | not B |\r\n",
    "|-------|-------|---------|---------|-------|-------|\r\n",
    "| True  | True  | True    | True    | False | False |\r\n",
    "| True  | False | False   | True    | False | True  |\r\n",
    "| False | True  | False   | True    | True  | False |\r\n",
    "| False | False | False   | False   | True  | True  |"
   ]
  },
  {
   "cell_type": "code",
   "execution_count": 8,
   "id": "7d1d7e96-f70e-45b3-9531-1e45ed71de52",
   "metadata": {},
   "outputs": [
    {
     "data": {
      "text/plain": [
       "' \\nram cualquiera\\ni3 500gb\\n800\\n'"
      ]
     },
     "execution_count": 8,
     "metadata": {},
     "output_type": "execute_result"
    }
   ],
   "source": [
    "\"\"\" \n",
    "ram cualquiera\n",
    "i3 500gb\n",
    "800\n",
    "\"\"\""
   ]
  },
  {
   "cell_type": "code",
   "execution_count": 9,
   "id": "f3ac35b1-f3c0-4e1a-b7b7-416ddc2bf9a1",
   "metadata": {},
   "outputs": [],
   "source": [
    "# primer ordenador\n",
    "ram1 = 32\n",
    "proc1 = \"i5\"\n",
    "disc1 = 500\n",
    "precio1 = 850\n",
    "\n",
    "#segundo\n",
    "ram2 = 8\n",
    "proc2 = \"i5\"\n",
    "disc2 = 500\n",
    "precio2 = 600\n",
    "\n",
    "#tercero\n",
    "ram3 = 32\n",
    "proc3 = \"i3\"\n",
    "disc3 = 500\n",
    "precio3 = 780\n"
   ]
  },
  {
   "cell_type": "code",
   "execution_count": 10,
   "id": "831143d7-022a-45bc-a39c-8c58e055e730",
   "metadata": {},
   "outputs": [
    {
     "name": "stdout",
     "output_type": "stream",
     "text": [
      "False\n"
     ]
    }
   ],
   "source": [
    "#primero\n",
    "\n",
    "cond_ram1 = ram1==16 or ram1==32 or ram1==64\n",
    "cond_proc1 = proc1==\"i3\" and disc1==500\n",
    "cond_precio1 = precio1 < 800\n",
    "\n",
    "cond1 = cond_ram1 and cond_proc1 and cond_precio1\n",
    "print(cond1)"
   ]
  },
  {
   "cell_type": "code",
   "execution_count": 11,
   "id": "ed9a40c7-2257-48b8-882c-11ff96353f6e",
   "metadata": {},
   "outputs": [
    {
     "name": "stdout",
     "output_type": "stream",
     "text": [
      "False\n"
     ]
    }
   ],
   "source": [
    "#segundo\n",
    "\n",
    "cond_ram2 = ram2==16 or ram2==32 or ram2==64\n",
    "cond_proc2 = proc2==\"i3\" and disc1==500\n",
    "cond_precio2 = precio2 < 800\n",
    "\n",
    "cond2 = cond_ram2 and cond_proc2 and cond_precio2\n",
    "print(cond2)"
   ]
  },
  {
   "cell_type": "code",
   "execution_count": 12,
   "id": "15472ca9-7d94-48f0-bfa8-684932be8b41",
   "metadata": {},
   "outputs": [
    {
     "name": "stdout",
     "output_type": "stream",
     "text": [
      "True\n"
     ]
    }
   ],
   "source": [
    "#tercero\n",
    "\n",
    "cond_ram3 = ram3==16 or ram3==32 or ram3==64\n",
    "cond_proc3 = proc3==\"i3\" and disc3==500\n",
    "cond_precio3 = precio3 < 800\n",
    "\n",
    "cond3 = cond_ram3 and cond_proc3 and cond_precio3\n",
    "print(cond3)"
   ]
  },
  {
   "cell_type": "markdown",
   "id": "bda52b61-aae9-4620-99a3-77db1d06de0a",
   "metadata": {},
   "source": [
    "## Funciones builtin"
   ]
  },
  {
   "cell_type": "code",
   "execution_count": 14,
   "id": "fe5b1fa7-2cc5-4a32-b261-69148fe805ee",
   "metadata": {},
   "outputs": [
    {
     "name": "stdout",
     "output_type": "stream",
     "text": [
      "18\n"
     ]
    }
   ],
   "source": [
    "print(len(\"esto es una cadena\"))\n",
    "\n",
    "# shift + tab te da el docstring de la funcion"
   ]
  },
  {
   "attachments": {
    "80442a45-ca56-4abf-9535-fa1f02c5b0d3.png": {
     "image/png": "[encoded data removed]"
    }
   },
   "cell_type": "markdown",
   "id": "610b1568-1616-4350-8f58-911b731f3537",
   "metadata": {},
   "source": [
    "![image.png](attachment:80442a45-ca56-4abf-9535-fa1f02c5b0d3.png)"
   ]
  }
 ],
 "metadata": {
  "kernelspec": {
   "display_name": "Python 3 (ipykernel)",
   "language": "python",
   "name": "python3"
  },
  "language_info": {
   "codemirror_mode": {
    "name": "ipython",
    "version": 3
   },
   "file_extension": ".py",
   "mimetype": "text/x-python",
   "name": "python",
   "nbconvert_exporter": "python",
   "pygments_lexer": "ipython3",
   "version": "3.11.3"
  }
 },
 "nbformat": 4,
 "nbformat_minor": 5
}
