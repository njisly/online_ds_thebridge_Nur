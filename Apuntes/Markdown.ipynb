{
 "cells": [
  {
   "cell_type": "markdown",
   "id": "93d75b12-b519-428f-805d-1bc67bd10699",
   "metadata": {},
   "source": [
    "instertar imagenes\n",
    "si se hace en html se puede controlar width y height Image"
   ]
  },
  {
   "cell_type": "markdown",
   "id": "02ae11b3-7343-47ec-b618-6d0e42fbdd30",
   "metadata": {},
   "source": [
    "|Ramp Up     | Data Analysis | Machine Learning | Data & Bussiness |\n",
    "|:-----------|:--------------|:-----------------|:-----------------|\n",
    "|Python      | EDA           | Supervised       | Productivización |\n",
    "|Estadística | R             | Non supervised   | Storytelling     |\n",
    "|SQL         | Feat. Eng.    | Deep Learning    | API              |\n",
    "\n",
    "(no hacen falta los espacios) (los dos puntos me justifican el texto a la izq)"
   ]
  },
  {
   "cell_type": "markdown",
   "id": "801811ae-a970-41ed-a884-5d0584337f18",
   "metadata": {},
   "source": [
    " $$\\sqrt{3x-1}+(1+x)^2$$\n",
    "2 $$ para centrar\n",
    "ashki23.github.io --> markdown latex formulitas"
   ]
  }
 ],
 "metadata": {
  "kernelspec": {
   "display_name": "Python 3 (ipykernel)",
   "language": "python",
   "name": "python3"
  },
  "language_info": {
   "codemirror_mode": {
    "name": "ipython",
    "version": 3
   },
   "file_extension": ".py",
   "mimetype": "text/x-python",
   "name": "python",
   "nbconvert_exporter": "python",
   "pygments_lexer": "ipython3",
   "version": "3.11.3"
  }
 },
 "nbformat": 4,
 "nbformat_minor": 5
}
