{
 "cells": [
  {
   "cell_type": "markdown",
   "metadata": {},
   "source": [
    "probar a hacer una prediccion con dune 2, pq la querian estrenar en noviembre"
   ]
  }
 ],
 "metadata": {
  "language_info": {
   "name": "python"
  }
 },
 "nbformat": 4,
 "nbformat_minor": 2
}
