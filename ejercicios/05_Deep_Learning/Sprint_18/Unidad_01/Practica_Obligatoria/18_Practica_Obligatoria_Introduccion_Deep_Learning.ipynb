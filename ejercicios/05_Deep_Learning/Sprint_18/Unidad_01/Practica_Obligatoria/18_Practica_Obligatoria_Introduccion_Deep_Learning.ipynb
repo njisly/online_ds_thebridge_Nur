{
  "cells": [
    {
      "cell_type": "markdown",
      "metadata": {
        "id": "X-Ie1xU1Th3o"
      },
      "source": [
        "![image.png](attachment:image.png)"
      ]
    },
    {
      "cell_type": "markdown",
      "metadata": {
        "id": "4PO_3rRiTh3p"
      },
      "source": [
        "## PRACTICA OBLIGATORIA: **Introducción Deep Learning**"
      ]
    },
    {
      "cell_type": "markdown",
      "metadata": {
        "id": "AI3tk1KPTh3q"
      },
      "source": [
        "* La práctica obligatoria de esta unidad consiste en un único ejercicio de modelado del dataset del titanic empleando y comparando dos modelos diferentes. Descarga este notebook en tu ordenador y trabaja en local. Ten en cuenta que tendrás que descar los directorios de imágenes y datos adicionales, si los hubiera.\n",
        "* Recuerda que debes subirla a tu repositorio personal antes de la sesión en vivo para que puntúe adecuadamente.  \n",
        "* Recuerda también que no es necesario que esté perfecta, sólo es necesario que se vea el esfuerzo.\n",
        "* Esta práctica se resolverá en la sesión en vivo correspondiente y la solución se publicará en el repo del curso."
      ]
    },
    {
      "cell_type": "markdown",
      "metadata": {
        "id": "BY6EMVNgTh3q"
      },
      "source": [
        "### Ejercicio 0"
      ]
    },
    {
      "cell_type": "markdown",
      "metadata": {
        "id": "tM0gwIG4Th3r"
      },
      "source": [
        "Importa los paquetes y módulos que necesites a lo largo del notebook."
      ]
    },
    {
      "cell_type": "code",
      "execution_count": 36,
      "metadata": {
        "id": "PLgxVsENTh3r"
      },
      "outputs": [],
      "source": [
        "import matplotlib.pyplot as plt\n",
        "import numpy as np\n",
        "import pandas as pd\n",
        "import seaborn as sns\n",
        "import time\n",
        "\n",
        "from sklearn.ensemble import RandomForestClassifier\n",
        "from sklearn.model_selection import train_test_split, GridSearchCV\n",
        "from sklearn.metrics import accuracy_score, precision_score, recall_score, classification_report, ConfusionMatrixDisplay, confusion_matrix\n",
        "from sklearn.preprocessing import StandardScaler\n",
        "from sklearn.neural_network import MLPClassifier"
      ]
    },
    {
      "cell_type": "code",
      "execution_count": 2,
      "metadata": {
        "colab": {
          "base_uri": "https://localhost:8080/",
          "height": 206
        },
        "id": "9ScZVv0jTh3s",
        "outputId": "a6fb0155-5858-438c-bb75-dd7a62f6f5e9"
      },
      "outputs": [
        {
          "data": {
            "text/html": [
              "<div>\n",
              "<style scoped>\n",
              "    .dataframe tbody tr th:only-of-type {\n",
              "        vertical-align: middle;\n",
              "    }\n",
              "\n",
              "    .dataframe tbody tr th {\n",
              "        vertical-align: top;\n",
              "    }\n",
              "\n",
              "    .dataframe thead th {\n",
              "        text-align: right;\n",
              "    }\n",
              "</style>\n",
              "<table border=\"1\" class=\"dataframe\">\n",
              "  <thead>\n",
              "    <tr style=\"text-align: right;\">\n",
              "      <th></th>\n",
              "      <th>survived</th>\n",
              "      <th>pclass</th>\n",
              "      <th>sex</th>\n",
              "      <th>age</th>\n",
              "      <th>sibsp</th>\n",
              "      <th>parch</th>\n",
              "      <th>fare</th>\n",
              "      <th>embarked</th>\n",
              "      <th>class</th>\n",
              "      <th>who</th>\n",
              "      <th>adult_male</th>\n",
              "      <th>deck</th>\n",
              "      <th>embark_town</th>\n",
              "      <th>alive</th>\n",
              "      <th>alone</th>\n",
              "    </tr>\n",
              "  </thead>\n",
              "  <tbody>\n",
              "    <tr>\n",
              "      <th>0</th>\n",
              "      <td>0</td>\n",
              "      <td>3</td>\n",
              "      <td>male</td>\n",
              "      <td>22.0</td>\n",
              "      <td>1</td>\n",
              "      <td>0</td>\n",
              "      <td>7.2500</td>\n",
              "      <td>S</td>\n",
              "      <td>Third</td>\n",
              "      <td>man</td>\n",
              "      <td>True</td>\n",
              "      <td>NaN</td>\n",
              "      <td>Southampton</td>\n",
              "      <td>no</td>\n",
              "      <td>False</td>\n",
              "    </tr>\n",
              "    <tr>\n",
              "      <th>1</th>\n",
              "      <td>1</td>\n",
              "      <td>1</td>\n",
              "      <td>female</td>\n",
              "      <td>38.0</td>\n",
              "      <td>1</td>\n",
              "      <td>0</td>\n",
              "      <td>71.2833</td>\n",
              "      <td>C</td>\n",
              "      <td>First</td>\n",
              "      <td>woman</td>\n",
              "      <td>False</td>\n",
              "      <td>C</td>\n",
              "      <td>Cherbourg</td>\n",
              "      <td>yes</td>\n",
              "      <td>False</td>\n",
              "    </tr>\n",
              "    <tr>\n",
              "      <th>2</th>\n",
              "      <td>1</td>\n",
              "      <td>3</td>\n",
              "      <td>female</td>\n",
              "      <td>26.0</td>\n",
              "      <td>0</td>\n",
              "      <td>0</td>\n",
              "      <td>7.9250</td>\n",
              "      <td>S</td>\n",
              "      <td>Third</td>\n",
              "      <td>woman</td>\n",
              "      <td>False</td>\n",
              "      <td>NaN</td>\n",
              "      <td>Southampton</td>\n",
              "      <td>yes</td>\n",
              "      <td>True</td>\n",
              "    </tr>\n",
              "    <tr>\n",
              "      <th>3</th>\n",
              "      <td>1</td>\n",
              "      <td>1</td>\n",
              "      <td>female</td>\n",
              "      <td>35.0</td>\n",
              "      <td>1</td>\n",
              "      <td>0</td>\n",
              "      <td>53.1000</td>\n",
              "      <td>S</td>\n",
              "      <td>First</td>\n",
              "      <td>woman</td>\n",
              "      <td>False</td>\n",
              "      <td>C</td>\n",
              "      <td>Southampton</td>\n",
              "      <td>yes</td>\n",
              "      <td>False</td>\n",
              "    </tr>\n",
              "    <tr>\n",
              "      <th>4</th>\n",
              "      <td>0</td>\n",
              "      <td>3</td>\n",
              "      <td>male</td>\n",
              "      <td>35.0</td>\n",
              "      <td>0</td>\n",
              "      <td>0</td>\n",
              "      <td>8.0500</td>\n",
              "      <td>S</td>\n",
              "      <td>Third</td>\n",
              "      <td>man</td>\n",
              "      <td>True</td>\n",
              "      <td>NaN</td>\n",
              "      <td>Southampton</td>\n",
              "      <td>no</td>\n",
              "      <td>True</td>\n",
              "    </tr>\n",
              "  </tbody>\n",
              "</table>\n",
              "</div>"
            ],
            "text/plain": [
              "   survived  pclass     sex   age  sibsp  parch     fare embarked  class  \\\n",
              "0         0       3    male  22.0      1      0   7.2500        S  Third   \n",
              "1         1       1  female  38.0      1      0  71.2833        C  First   \n",
              "2         1       3  female  26.0      0      0   7.9250        S  Third   \n",
              "3         1       1  female  35.0      1      0  53.1000        S  First   \n",
              "4         0       3    male  35.0      0      0   8.0500        S  Third   \n",
              "\n",
              "     who  adult_male deck  embark_town alive  alone  \n",
              "0    man        True  NaN  Southampton    no  False  \n",
              "1  woman       False    C    Cherbourg   yes  False  \n",
              "2  woman       False  NaN  Southampton   yes   True  \n",
              "3  woman       False    C  Southampton   yes  False  \n",
              "4    man        True  NaN  Southampton    no   True  "
            ]
          },
          "execution_count": 2,
          "metadata": {},
          "output_type": "execute_result"
        }
      ],
      "source": [
        "df = pd.read_csv(\"https://raw.githubusercontent.com/Jaimegrp/DS_Online_Oct23_Exercises/main/05_Deep_Learning/Sprint_18/Unidad_01/Practica_Obligatoria/data/titanic.csv\")\n",
        "df.head()"
      ]
    },
    {
      "cell_type": "code",
      "execution_count": 3,
      "metadata": {
        "colab": {
          "base_uri": "https://localhost:8080/"
        },
        "id": "FzQnn_gJTh3s",
        "outputId": "527a7d14-5678-4a7d-88b9-a6929f22f076"
      },
      "outputs": [
        {
          "name": "stdout",
          "output_type": "stream",
          "text": [
            "<class 'pandas.core.frame.DataFrame'>\n",
            "RangeIndex: 891 entries, 0 to 890\n",
            "Data columns (total 15 columns):\n",
            " #   Column       Non-Null Count  Dtype  \n",
            "---  ------       --------------  -----  \n",
            " 0   survived     891 non-null    int64  \n",
            " 1   pclass       891 non-null    int64  \n",
            " 2   sex          891 non-null    object \n",
            " 3   age          714 non-null    float64\n",
            " 4   sibsp        891 non-null    int64  \n",
            " 5   parch        891 non-null    int64  \n",
            " 6   fare         891 non-null    float64\n",
            " 7   embarked     889 non-null    object \n",
            " 8   class        891 non-null    object \n",
            " 9   who          891 non-null    object \n",
            " 10  adult_male   891 non-null    bool   \n",
            " 11  deck         203 non-null    object \n",
            " 12  embark_town  889 non-null    object \n",
            " 13  alive        891 non-null    object \n",
            " 14  alone        891 non-null    bool   \n",
            "dtypes: bool(2), float64(2), int64(4), object(7)\n",
            "memory usage: 92.4+ KB\n"
          ]
        }
      ],
      "source": [
        "df.info()"
      ]
    },
    {
      "cell_type": "code",
      "execution_count": 4,
      "metadata": {
        "id": "Bd_62QBzTh3t"
      },
      "outputs": [],
      "source": [
        "df.drop(columns=[\"sex\", \"class\", \"adult_male\", \"deck\", \"embark_town\", \"survived\"], inplace=True)"
      ]
    },
    {
      "cell_type": "code",
      "execution_count": 5,
      "metadata": {
        "colab": {
          "base_uri": "https://localhost:8080/"
        },
        "id": "K7_aL4YOTh3t",
        "outputId": "808ab030-23d8-4216-ec4e-e026e92c7a17"
      },
      "outputs": [
        {
          "name": "stdout",
          "output_type": "stream",
          "text": [
            "<class 'pandas.core.frame.DataFrame'>\n",
            "RangeIndex: 891 entries, 0 to 890\n",
            "Data columns (total 9 columns):\n",
            " #   Column    Non-Null Count  Dtype  \n",
            "---  ------    --------------  -----  \n",
            " 0   pclass    891 non-null    int64  \n",
            " 1   age       714 non-null    float64\n",
            " 2   sibsp     891 non-null    int64  \n",
            " 3   parch     891 non-null    int64  \n",
            " 4   fare      891 non-null    float64\n",
            " 5   embarked  889 non-null    object \n",
            " 6   who       891 non-null    object \n",
            " 7   alive     891 non-null    object \n",
            " 8   alone     891 non-null    bool   \n",
            "dtypes: bool(1), float64(2), int64(3), object(3)\n",
            "memory usage: 56.7+ KB\n"
          ]
        }
      ],
      "source": [
        "df.info()"
      ]
    },
    {
      "cell_type": "code",
      "execution_count": 6,
      "metadata": {
        "id": "mTfFUFtbTh3t"
      },
      "outputs": [],
      "source": [
        "df[\"embarked\"].fillna(df[\"embarked\"].mode()[0], inplace=True)"
      ]
    },
    {
      "cell_type": "code",
      "execution_count": 7,
      "metadata": {
        "id": "ExZQWVaJTh3t"
      },
      "outputs": [],
      "source": [
        "man = df[\"who\"] == \"man\"\n",
        "woman = df[\"who\"] == \"woman\"\n",
        "child = df[\"who\"] == \"child\"\n",
        "\n",
        "df.loc[man, 'age'] = df.loc[man, 'age'].fillna(df.loc[man, 'age'].mean())\n",
        "df.loc[woman, 'age'] = df.loc[woman, 'age'].fillna(df.loc[woman, 'age'].mean())\n",
        "df.loc[child, 'age'] = df.loc[child, 'age'].fillna(df.loc[child, 'age'].mean())"
      ]
    },
    {
      "cell_type": "code",
      "execution_count": 8,
      "metadata": {
        "colab": {
          "base_uri": "https://localhost:8080/"
        },
        "id": "cOyPDN7GTh3t",
        "outputId": "f83a6d72-3c18-4181-98e6-1d0726565c26"
      },
      "outputs": [
        {
          "name": "stdout",
          "output_type": "stream",
          "text": [
            "<class 'pandas.core.frame.DataFrame'>\n",
            "RangeIndex: 891 entries, 0 to 890\n",
            "Data columns (total 9 columns):\n",
            " #   Column    Non-Null Count  Dtype  \n",
            "---  ------    --------------  -----  \n",
            " 0   pclass    891 non-null    int64  \n",
            " 1   age       891 non-null    float64\n",
            " 2   sibsp     891 non-null    int64  \n",
            " 3   parch     891 non-null    int64  \n",
            " 4   fare      891 non-null    float64\n",
            " 5   embarked  891 non-null    object \n",
            " 6   who       891 non-null    object \n",
            " 7   alive     891 non-null    object \n",
            " 8   alone     891 non-null    bool   \n",
            "dtypes: bool(1), float64(2), int64(3), object(3)\n",
            "memory usage: 56.7+ KB\n"
          ]
        }
      ],
      "source": [
        "df.info()"
      ]
    },
    {
      "cell_type": "code",
      "execution_count": null,
      "metadata": {
        "id": "ieh12FD1ZZqZ"
      },
      "outputs": [],
      "source": []
    },
    {
      "cell_type": "markdown",
      "metadata": {
        "id": "w3oZ1warTh3t"
      },
      "source": [
        "### Descripción y objetivo"
      ]
    },
    {
      "cell_type": "markdown",
      "metadata": {
        "id": "7N8vmuDFTh3t"
      },
      "source": [
        "El objetivo de la práctica es crear un modelo DL y compararlo con un modelo Random Forest para el dataset de titanic los dos con el mismo objetivo, predecir la supervivencia de un pasajero.  Se pide:  \n"
      ]
    },
    {
      "cell_type": "code",
      "execution_count": 9,
      "metadata": {
        "colab": {
          "base_uri": "https://localhost:8080/"
        },
        "id": "6c9DRUtaU1qr",
        "outputId": "796cfcc1-cb74-46f6-ba3b-4e199bbbc21e"
      },
      "outputs": [
        {
          "data": {
            "text/plain": [
              "alive\n",
              "no     0.616162\n",
              "yes    0.383838\n",
              "Name: proportion, dtype: float64"
            ]
          },
          "execution_count": 9,
          "metadata": {},
          "output_type": "execute_result"
        }
      ],
      "source": [
        "target = \"alive\"\n",
        "\n",
        "df[target].value_counts(True)"
      ]
    },
    {
      "cell_type": "code",
      "execution_count": 10,
      "metadata": {
        "id": "rLnEbo0RWegw"
      },
      "outputs": [],
      "source": [
        "num_feat = [\"age\", \"sibsp\", \"parch\", \"fare\"]"
      ]
    },
    {
      "cell_type": "code",
      "execution_count": 11,
      "metadata": {
        "id": "dk-wISAQXhA5"
      },
      "outputs": [],
      "source": [
        "cat_feat = []\n",
        "for col in df.columns:\n",
        "  if col != target:\n",
        "    if col not in num_feat:\n",
        "      cat_feat.append(col)"
      ]
    },
    {
      "cell_type": "code",
      "execution_count": 12,
      "metadata": {
        "colab": {
          "base_uri": "https://localhost:8080/"
        },
        "id": "TvxavWU7XvUG",
        "outputId": "9de5c8d4-c222-4ab4-c08b-3fac4970a51f"
      },
      "outputs": [
        {
          "data": {
            "text/plain": [
              "['pclass', 'embarked', 'who', 'alone']"
            ]
          },
          "execution_count": 12,
          "metadata": {},
          "output_type": "execute_result"
        }
      ],
      "source": [
        "cat_feat"
      ]
    },
    {
      "cell_type": "code",
      "execution_count": 13,
      "metadata": {
        "colab": {
          "base_uri": "https://localhost:8080/"
        },
        "id": "Bav5WiFfX3xR",
        "outputId": "21e74290-425d-4f96-aa9e-85cb92abb938"
      },
      "outputs": [
        {
          "data": {
            "text/plain": [
              "((712, 9), (179, 9))"
            ]
          },
          "execution_count": 13,
          "metadata": {},
          "output_type": "execute_result"
        }
      ],
      "source": [
        "train, test = train_test_split(df, test_size = .2, random_state = 42)\n",
        "\n",
        "train.shape, test.shape"
      ]
    },
    {
      "cell_type": "code",
      "execution_count": 14,
      "metadata": {
        "colab": {
          "base_uri": "https://localhost:8080/",
          "height": 521
        },
        "id": "bVBxOYn8Ytqe",
        "outputId": "c7fed0b5-73a6-4ab8-f6d1-b2cd8209c7bd"
      },
      "outputs": [
        {
          "data": {
            "text/plain": [
              "array([[<Axes: title={'center': 'age'}>,\n",
              "        <Axes: title={'center': 'sibsp'}>],\n",
              "       [<Axes: title={'center': 'parch'}>,\n",
              "        <Axes: title={'center': 'fare'}>]], dtype=object)"
            ]
          },
          "execution_count": 14,
          "metadata": {},
          "output_type": "execute_result"
        },
        {
          "data": {
            "image/png": "[encoded data removed]",
            "text/plain": [
              "<Figure size 640x480 with 4 Axes>"
            ]
          },
          "metadata": {},
          "output_type": "display_data"
        }
      ],
      "source": [
        "train[num_feat].hist(bins=50)"
      ]
    },
    {
      "cell_type": "code",
      "execution_count": 15,
      "metadata": {
        "id": "zqqXl5bOY1qS"
      },
      "outputs": [],
      "source": [
        "\n",
        "def plot_categorical_relationship_fin(df, cat_col1, cat_col2, relative_freq=False, show_values=False, size_group = 5):\n",
        "    # Prepara los datos\n",
        "    count_data = df.groupby([cat_col1, cat_col2]).size().reset_index(name='count')\n",
        "    total_counts = df[cat_col1].value_counts()\n",
        "\n",
        "    # Convierte a frecuencias relativas si se solicita\n",
        "    if relative_freq:\n",
        "        count_data['count'] = count_data.apply(lambda x: x['count'] / total_counts[x[cat_col1]], axis=1)\n",
        "\n",
        "    # Si hay más de size_group categorías en cat_col1, las divide en grupos de size_group\n",
        "    unique_categories = df[cat_col1].unique()\n",
        "    if len(unique_categories) > size_group:\n",
        "        num_plots = int(np.ceil(len(unique_categories) / size_group))\n",
        "\n",
        "        for i in range(num_plots):\n",
        "            # Selecciona un subconjunto de categorías para cada gráfico\n",
        "            categories_subset = unique_categories[i * size_group:(i + 1) * size_group]\n",
        "            data_subset = count_data[count_data[cat_col1].isin(categories_subset)]\n",
        "\n",
        "            # Crea el gráfico\n",
        "            plt.figure(figsize=(10, 6))\n",
        "            ax = sns.barplot(x=cat_col1, y='count', hue=cat_col2, data=data_subset, order=categories_subset)\n",
        "\n",
        "            # Añade títulos y etiquetas\n",
        "            plt.title(f'Relación entre {cat_col1} y {cat_col2} - Grupo {i + 1}')\n",
        "            plt.xlabel(cat_col1)\n",
        "            plt.ylabel('Frecuencia' if relative_freq else 'Conteo')\n",
        "            plt.xticks(rotation=45)\n",
        "\n",
        "            # Mostrar valores en el gráfico\n",
        "            if show_values:\n",
        "                for p in ax.patches:\n",
        "                    ax.annotate(f'{p.get_height():.2f}', (p.get_x() + p.get_width() / 2., p.get_height()),\n",
        "                                ha='center', va='center', fontsize=10, color='black', xytext=(0, size_group),\n",
        "                                textcoords='offset points')\n",
        "\n",
        "            # Muestra el gráfico\n",
        "            plt.show()\n",
        "    else:\n",
        "        # Crea el gráfico para menos de size_group categorías\n",
        "        plt.figure(figsize=(10, 6))\n",
        "        ax = sns.barplot(x=cat_col1, y='count', hue=cat_col2, data=count_data)\n",
        "\n",
        "        # Añade títulos y etiquetas\n",
        "        plt.title(f'Relación entre {cat_col1} y {cat_col2}')\n",
        "        plt.xlabel(cat_col1)\n",
        "        plt.ylabel('Frecuencia' if relative_freq else 'Conteo')\n",
        "        plt.xticks(rotation=45)\n",
        "\n",
        "        # Mostrar valores en el gráfico\n",
        "        if show_values:\n",
        "            for p in ax.patches:\n",
        "                ax.annotate(f'{p.get_height():.2f}', (p.get_x() + p.get_width() / 2., p.get_height()),\n",
        "                            ha='center', va='center', fontsize=10, color='black', xytext=(0, size_group),\n",
        "                            textcoords='offset points')\n",
        "\n",
        "        # Muestra el gráfico\n",
        "        plt.show()\n"
      ]
    },
    {
      "cell_type": "code",
      "execution_count": 16,
      "metadata": {
        "colab": {
          "base_uri": "https://localhost:8080/",
          "height": 1000
        },
        "id": "4lGcJmcvZ_85",
        "outputId": "07e059f7-b851-49ea-8dc7-7659c577da5b"
      },
      "outputs": [
        {
          "data": {
            "image/png": "[encoded data removed]",
            "text/plain": [
              "<Figure size 1000x600 with 1 Axes>"
            ]
          },
          "metadata": {},
          "output_type": "display_data"
        },
        {
          "data": {
            "image/png": "[encoded data removed]",
            "text/plain": [
              "<Figure size 1000x600 with 1 Axes>"
            ]
          },
          "metadata": {},
          "output_type": "display_data"
        },
        {
          "data": {
            "image/png": "[encoded data removed]",
            "text/plain": [
              "<Figure size 1000x600 with 1 Axes>"
            ]
          },
          "metadata": {},
          "output_type": "display_data"
        },
        {
          "data": {
            "image/png": "[encoded data removed]",
            "text/plain": [
              "<Figure size 1000x600 with 1 Axes>"
            ]
          },
          "metadata": {},
          "output_type": "display_data"
        }
      ],
      "source": [
        "for col in cat_feat:\n",
        "  if col != target:\n",
        "    plot_categorical_relationship_fin(train, target, col, True, True)"
      ]
    },
    {
      "cell_type": "code",
      "execution_count": 17,
      "metadata": {
        "colab": {
          "base_uri": "https://localhost:8080/"
        },
        "id": "BFoJa945adrM",
        "outputId": "6b99cf4d-cef0-4978-fe4a-f2d0cac056c5"
      },
      "outputs": [
        {
          "data": {
            "text/plain": [
              "['pclass', 'embarked', 'who', 'alone']"
            ]
          },
          "execution_count": 17,
          "metadata": {},
          "output_type": "execute_result"
        }
      ],
      "source": [
        "cat_feat\n",
        "\n",
        "# a ver qué toca transformar"
      ]
    },
    {
      "cell_type": "code",
      "execution_count": 18,
      "metadata": {
        "id": "_ZriPKRlasgv"
      },
      "outputs": [],
      "source": [
        "train[\"alone\"] = train[\"alone\"].astype(int)\n",
        "\n",
        "test[\"alone\"] = test[\"alone\"].astype(int)"
      ]
    },
    {
      "cell_type": "code",
      "execution_count": 19,
      "metadata": {
        "id": "z9ErEgJUbEvs"
      },
      "outputs": [],
      "source": [
        "train[\"who\"] = train[\"who\"].map({\"child\":0,\n",
        "                                 \"woman\":1,\n",
        "                                 \"man\":2})\n",
        "test[\"who\"] = test[\"who\"].map({\"child\":0,\n",
        "                                 \"woman\":1,\n",
        "                                 \"man\":2})"
      ]
    },
    {
      "cell_type": "code",
      "execution_count": 20,
      "metadata": {
        "id": "qM6Al8A9bMdE"
      },
      "outputs": [],
      "source": [
        "train[\"embarked\"] = train[\"embarked\"].map({\"Q\":0,\n",
        "                                           \"C\":1,\n",
        "                                           \"S\":2})\n",
        "test[\"embarked\"] = test[\"embarked\"].map({\"Q\":0,\n",
        "                                           \"C\":1,\n",
        "                                           \"S\":2})"
      ]
    },
    {
      "cell_type": "code",
      "execution_count": 21,
      "metadata": {
        "id": "KTO8s6tPcBRD"
      },
      "outputs": [],
      "source": [
        "train[num_feat] = np.log1p(train[num_feat])"
      ]
    },
    {
      "cell_type": "code",
      "execution_count": 22,
      "metadata": {
        "id": "rj-YgasMcXwj"
      },
      "outputs": [],
      "source": [
        "X_train = train[num_feat + cat_feat]\n",
        "X_test = test[num_feat + cat_feat]\n",
        "\n",
        "y_train = train[target]\n",
        "y_test = test[target]"
      ]
    },
    {
      "cell_type": "code",
      "execution_count": 23,
      "metadata": {
        "id": "RSo9xBoRckB1"
      },
      "outputs": [],
      "source": [
        "scaler = StandardScaler()\n",
        "\n",
        "X_train_scaled = X_train.copy()\n",
        "X_train_scaled[num_feat] = scaler.fit_transform(X_train_scaled[num_feat])"
      ]
    },
    {
      "cell_type": "code",
      "execution_count": 24,
      "metadata": {
        "id": "Bj1FZpWHdAe-"
      },
      "outputs": [],
      "source": [
        "X_test_scaled = X_test.copy()\n",
        "X_test_scaled[num_feat] = scaler.transform(X_test_scaled[num_feat])"
      ]
    },
    {
      "cell_type": "code",
      "execution_count": 25,
      "metadata": {
        "colab": {
          "base_uri": "https://localhost:8080/",
          "height": 81
        },
        "id": "CI70LWLukUV5",
        "outputId": "839affa4-fe90-4d28-d6e4-03be87762f9a"
      },
      "outputs": [
        {
          "data": {
            "text/html": [
              "<div>\n",
              "<style scoped>\n",
              "    .dataframe tbody tr th:only-of-type {\n",
              "        vertical-align: middle;\n",
              "    }\n",
              "\n",
              "    .dataframe tbody tr th {\n",
              "        vertical-align: top;\n",
              "    }\n",
              "\n",
              "    .dataframe thead th {\n",
              "        text-align: right;\n",
              "    }\n",
              "</style>\n",
              "<table border=\"1\" class=\"dataframe\">\n",
              "  <thead>\n",
              "    <tr style=\"text-align: right;\">\n",
              "      <th></th>\n",
              "      <th>accuracy</th>\n",
              "      <th>precision</th>\n",
              "      <th>recall</th>\n",
              "      <th>train_time</th>\n",
              "      <th>pred_time</th>\n",
              "    </tr>\n",
              "  </thead>\n",
              "  <tbody>\n",
              "    <tr>\n",
              "      <th>rf</th>\n",
              "      <td>0.608939</td>\n",
              "      <td>0.661705</td>\n",
              "      <td>0.644723</td>\n",
              "      <td>0.177404</td>\n",
              "      <td>0.008681</td>\n",
              "    </tr>\n",
              "  </tbody>\n",
              "</table>\n",
              "</div>"
            ],
            "text/plain": [
              "    accuracy  precision    recall  train_time  pred_time\n",
              "rf  0.608939   0.661705  0.644723    0.177404   0.008681"
            ]
          },
          "execution_count": 25,
          "metadata": {},
          "output_type": "execute_result"
        }
      ],
      "source": [
        "rf = RandomForestClassifier(random_state=42)\n",
        "\n",
        "# Registramos el tiempo de entrenamiento y predicción\n",
        "start = time.time()\n",
        "rf.fit(X_train, y_train)\n",
        "end = time.time()\n",
        "train_time = end - start\n",
        "\n",
        "start = time.time()\n",
        "y_pred = rf.predict(X_test)\n",
        "end = time.time()\n",
        "pred_time = end - start\n",
        "\n",
        "# Guardamos las métricas de evaluación en un dataframe\n",
        "\n",
        "rf_metrics = pd.DataFrame({'accuracy': accuracy_score(y_test, y_pred),\n",
        "                            'precision': precision_score(y_test, y_pred, average = \"macro\"),\n",
        "                            'recall': recall_score(y_test, y_pred, average = \"macro\"),\n",
        "                            'train_time': train_time,\n",
        "                            'pred_time': pred_time}, index=['rf']\n",
        "                            )\n",
        "rf_metrics"
      ]
    },
    {
      "cell_type": "code",
      "execution_count": 26,
      "metadata": {
        "colab": {
          "base_uri": "https://localhost:8080/",
          "height": 81
        },
        "id": "zEjTBhKlkUV5",
        "outputId": "88cf4c91-4768-4bc0-f58f-e62773fb15b5"
      },
      "outputs": [
        {
          "data": {
            "text/html": [
              "<div>\n",
              "<style scoped>\n",
              "    .dataframe tbody tr th:only-of-type {\n",
              "        vertical-align: middle;\n",
              "    }\n",
              "\n",
              "    .dataframe tbody tr th {\n",
              "        vertical-align: top;\n",
              "    }\n",
              "\n",
              "    .dataframe thead th {\n",
              "        text-align: right;\n",
              "    }\n",
              "</style>\n",
              "<table border=\"1\" class=\"dataframe\">\n",
              "  <thead>\n",
              "    <tr style=\"text-align: right;\">\n",
              "      <th></th>\n",
              "      <th>accuracy</th>\n",
              "      <th>precision</th>\n",
              "      <th>recall</th>\n",
              "      <th>train_time</th>\n",
              "      <th>pred_time</th>\n",
              "    </tr>\n",
              "  </thead>\n",
              "  <tbody>\n",
              "    <tr>\n",
              "      <th>rf_grid</th>\n",
              "      <td>0.815642</td>\n",
              "      <td>0.823729</td>\n",
              "      <td>0.794981</td>\n",
              "      <td>18.346162</td>\n",
              "      <td>0.006618</td>\n",
              "    </tr>\n",
              "  </tbody>\n",
              "</table>\n",
              "</div>"
            ],
            "text/plain": [
              "         accuracy  precision    recall  train_time  pred_time\n",
              "rf_grid  0.815642   0.823729  0.794981   18.346162   0.006618"
            ]
          },
          "execution_count": 26,
          "metadata": {},
          "output_type": "execute_result"
        }
      ],
      "source": [
        "params = {\n",
        "    'n_estimators': [100, 200, 300],\n",
        "    'min_samples_split': [2, 5, 10],\n",
        "    'min_samples_leaf': [1, 2, 4],\n",
        "    'class_weight': [None, \"balanced\"]}\n",
        "\n",
        "rf_grid = GridSearchCV(rf,\n",
        "                       params,\n",
        "                       cv=5,\n",
        "                       n_jobs=-1)\n",
        "\n",
        "start = time.time()\n",
        "rf_grid.fit(X_train, y_train)\n",
        "end = time.time()\n",
        "train_time = end - start\n",
        "\n",
        "start = time.time()\n",
        "y_pred = rf_grid.predict(X_test)\n",
        "end = time.time()\n",
        "pred_time = end - start\n",
        "\n",
        "# Guardamos las métricas de evaluación en un dataframe\n",
        "\n",
        "rf_grid_metrics = pd.DataFrame({'accuracy': accuracy_score(y_test, y_pred),\n",
        "                            'precision': precision_score(y_test, y_pred, average = \"macro\"),\n",
        "                            'recall': recall_score(y_test, y_pred, average = \"macro\"),\n",
        "                            'train_time': train_time,\n",
        "                            'pred_time': pred_time}, index=['rf_grid']\n",
        "                            )\n",
        "rf_grid_metrics"
      ]
    },
    {
      "cell_type": "code",
      "execution_count": 27,
      "metadata": {
        "colab": {
          "base_uri": "https://localhost:8080/"
        },
        "id": "3lgR-wpLkUV5",
        "outputId": "e743aae2-a953-4d24-fc7a-ce104466fd58"
      },
      "outputs": [
        {
          "data": {
            "text/plain": [
              "{'class_weight': None,\n",
              " 'min_samples_leaf': 4,\n",
              " 'min_samples_split': 2,\n",
              " 'n_estimators': 100}"
            ]
          },
          "execution_count": 27,
          "metadata": {},
          "output_type": "execute_result"
        }
      ],
      "source": [
        "rf_grid.best_params_"
      ]
    },
    {
      "cell_type": "code",
      "execution_count": 28,
      "metadata": {
        "colab": {
          "base_uri": "https://localhost:8080/",
          "height": 112
        },
        "id": "QgnEF78OkUV5",
        "outputId": "6a0c7192-4044-4e50-9101-0b75ec7c9984"
      },
      "outputs": [
        {
          "data": {
            "text/html": [
              "<div>\n",
              "<style scoped>\n",
              "    .dataframe tbody tr th:only-of-type {\n",
              "        vertical-align: middle;\n",
              "    }\n",
              "\n",
              "    .dataframe tbody tr th {\n",
              "        vertical-align: top;\n",
              "    }\n",
              "\n",
              "    .dataframe thead th {\n",
              "        text-align: right;\n",
              "    }\n",
              "</style>\n",
              "<table border=\"1\" class=\"dataframe\">\n",
              "  <thead>\n",
              "    <tr style=\"text-align: right;\">\n",
              "      <th></th>\n",
              "      <th>accuracy</th>\n",
              "      <th>precision</th>\n",
              "      <th>recall</th>\n",
              "      <th>train_time</th>\n",
              "      <th>pred_time</th>\n",
              "    </tr>\n",
              "  </thead>\n",
              "  <tbody>\n",
              "    <tr>\n",
              "      <th>rf</th>\n",
              "      <td>0.608939</td>\n",
              "      <td>0.661705</td>\n",
              "      <td>0.644723</td>\n",
              "      <td>0.177404</td>\n",
              "      <td>0.008681</td>\n",
              "    </tr>\n",
              "    <tr>\n",
              "      <th>rf_grid</th>\n",
              "      <td>0.815642</td>\n",
              "      <td>0.823729</td>\n",
              "      <td>0.794981</td>\n",
              "      <td>18.346162</td>\n",
              "      <td>0.006618</td>\n",
              "    </tr>\n",
              "  </tbody>\n",
              "</table>\n",
              "</div>"
            ],
            "text/plain": [
              "         accuracy  precision    recall  train_time  pred_time\n",
              "rf       0.608939   0.661705  0.644723    0.177404   0.008681\n",
              "rf_grid  0.815642   0.823729  0.794981   18.346162   0.006618"
            ]
          },
          "execution_count": 28,
          "metadata": {},
          "output_type": "execute_result"
        }
      ],
      "source": [
        "ml_metrics = pd.concat([rf_metrics, rf_grid_metrics])\n",
        "ml_metrics"
      ]
    },
    {
      "cell_type": "code",
      "execution_count": 29,
      "metadata": {
        "colab": {
          "base_uri": "https://localhost:8080/",
          "height": 135
        },
        "id": "M13wBZ4MdLG8",
        "outputId": "aad55993-48d6-4080-dc83-2e06a47be4e5"
      },
      "outputs": [
        {
          "name": "stderr",
          "output_type": "stream",
          "text": [
            "c:\\Users\\Nur\\AppData\\Local\\Programs\\Python\\Python311\\Lib\\site-packages\\sklearn\\metrics\\_classification.py:1471: UndefinedMetricWarning: Precision is ill-defined and being set to 0.0 in labels with no predicted samples. Use `zero_division` parameter to control this behavior.\n",
            "  _warn_prf(average, modifier, msg_start, len(result))\n"
          ]
        },
        {
          "data": {
            "text/html": [
              "<div>\n",
              "<style scoped>\n",
              "    .dataframe tbody tr th:only-of-type {\n",
              "        vertical-align: middle;\n",
              "    }\n",
              "\n",
              "    .dataframe tbody tr th {\n",
              "        vertical-align: top;\n",
              "    }\n",
              "\n",
              "    .dataframe thead th {\n",
              "        text-align: right;\n",
              "    }\n",
              "</style>\n",
              "<table border=\"1\" class=\"dataframe\">\n",
              "  <thead>\n",
              "    <tr style=\"text-align: right;\">\n",
              "      <th></th>\n",
              "      <th>accuracy</th>\n",
              "      <th>precision</th>\n",
              "      <th>recall</th>\n",
              "      <th>train_time</th>\n",
              "      <th>pred_time</th>\n",
              "    </tr>\n",
              "  </thead>\n",
              "  <tbody>\n",
              "    <tr>\n",
              "      <th>mlp</th>\n",
              "      <td>0.413408</td>\n",
              "      <td>0.206704</td>\n",
              "      <td>0.5</td>\n",
              "      <td>1.767303</td>\n",
              "      <td>0.00347</td>\n",
              "    </tr>\n",
              "  </tbody>\n",
              "</table>\n",
              "</div>"
            ],
            "text/plain": [
              "     accuracy  precision  recall  train_time  pred_time\n",
              "mlp  0.413408   0.206704     0.5    1.767303    0.00347"
            ]
          },
          "execution_count": 29,
          "metadata": {},
          "output_type": "execute_result"
        }
      ],
      "source": [
        "# Creamos un modelo de red neuronal\n",
        "\n",
        "mlp = MLPClassifier(hidden_layer_sizes=(100, 100, 100), max_iter=1000, random_state=42)\n",
        "\n",
        "# Registramos el tiempo de entrenamiento y predicción\n",
        "start = time.time()\n",
        "mlp.fit(X_train_scaled, y_train)\n",
        "end = time.time()\n",
        "train_time = end - start\n",
        "\n",
        "start = time.time()\n",
        "y_pred = mlp.predict(X_test_scaled)\n",
        "end = time.time()\n",
        "pred_time = end - start\n",
        "\n",
        "# Guardamos las métricas de evaluación en un dataframe\n",
        "\n",
        "mlp_metrics = pd.DataFrame({'accuracy': accuracy_score(y_test, y_pred),\n",
        "                            'precision': precision_score(y_test, y_pred, average = \"macro\"),\n",
        "                            'recall': recall_score(y_test, y_pred, average = \"macro\"),\n",
        "                            'train_time': train_time,\n",
        "                            'pred_time': pred_time}, index=['mlp']\n",
        "                            )\n",
        "mlp_metrics"
      ]
    },
    {
      "cell_type": "code",
      "execution_count": 30,
      "metadata": {
        "id": "xMXxWAfZkUV6"
      },
      "outputs": [
        {
          "name": "stderr",
          "output_type": "stream",
          "text": [
            "c:\\Users\\Nur\\AppData\\Local\\Programs\\Python\\Python311\\Lib\\site-packages\\sklearn\\metrics\\_classification.py:1471: UndefinedMetricWarning: Precision is ill-defined and being set to 0.0 in labels with no predicted samples. Use `zero_division` parameter to control this behavior.\n",
            "  _warn_prf(average, modifier, msg_start, len(result))\n"
          ]
        },
        {
          "data": {
            "text/html": [
              "<div>\n",
              "<style scoped>\n",
              "    .dataframe tbody tr th:only-of-type {\n",
              "        vertical-align: middle;\n",
              "    }\n",
              "\n",
              "    .dataframe tbody tr th {\n",
              "        vertical-align: top;\n",
              "    }\n",
              "\n",
              "    .dataframe thead th {\n",
              "        text-align: right;\n",
              "    }\n",
              "</style>\n",
              "<table border=\"1\" class=\"dataframe\">\n",
              "  <thead>\n",
              "    <tr style=\"text-align: right;\">\n",
              "      <th></th>\n",
              "      <th>accuracy</th>\n",
              "      <th>precision</th>\n",
              "      <th>recall</th>\n",
              "      <th>train_time</th>\n",
              "      <th>pred_time</th>\n",
              "    </tr>\n",
              "  </thead>\n",
              "  <tbody>\n",
              "    <tr>\n",
              "      <th>mlp_grid</th>\n",
              "      <td>0.413408</td>\n",
              "      <td>0.206704</td>\n",
              "      <td>0.5</td>\n",
              "      <td>328.819567</td>\n",
              "      <td>0.001032</td>\n",
              "    </tr>\n",
              "  </tbody>\n",
              "</table>\n",
              "</div>"
            ],
            "text/plain": [
              "          accuracy  precision  recall  train_time  pred_time\n",
              "mlp_grid  0.413408   0.206704     0.5  328.819567   0.001032"
            ]
          },
          "execution_count": 30,
          "metadata": {},
          "output_type": "execute_result"
        }
      ],
      "source": [
        "params = {\n",
        "    'hidden_layer_sizes': [(100,), (50, 50)],  # Tamaños de las capas ocultas\n",
        "    'activation': ['relu', 'tanh'],                           # Funciones de activación\n",
        "    'solver': ['adam', 'sgd'],                                    # Solucionadores\n",
        "    'alpha': [0.0001, 0.001],                               # Término de regularización\n",
        "    'learning_rate': ['constant', 'adaptive'],               # Tasa de aprendizaje\n",
        "}\n",
        "\n",
        "mlp_grid = GridSearchCV(MLPClassifier(max_iter = 100000,random_state=42), params, cv=5)\n",
        "\n",
        "start = time.time()\n",
        "mlp_grid.fit(X_train_scaled, y_train)\n",
        "end = time.time()\n",
        "train_time = end - start\n",
        "\n",
        "start = time.time()\n",
        "y_pred = mlp_grid.predict(X_test_scaled)\n",
        "end = time.time()\n",
        "pred_time = end - start\n",
        "\n",
        "mlp_grid_metrics = pd.DataFrame({'accuracy': accuracy_score(y_test, y_pred),\n",
        "                            'precision': precision_score(y_test, y_pred, average = \"macro\"),\n",
        "                            'recall': recall_score(y_test, y_pred, average = \"macro\"),\n",
        "                            'train_time': train_time,\n",
        "                            'pred_time': pred_time}, index=['mlp_grid']\n",
        "                            )\n",
        "mlp_grid_metrics"
      ]
    },
    {
      "cell_type": "code",
      "execution_count": 32,
      "metadata": {
        "id": "doZO4s1skUV6"
      },
      "outputs": [
        {
          "data": {
            "text/html": [
              "<div>\n",
              "<style scoped>\n",
              "    .dataframe tbody tr th:only-of-type {\n",
              "        vertical-align: middle;\n",
              "    }\n",
              "\n",
              "    .dataframe tbody tr th {\n",
              "        vertical-align: top;\n",
              "    }\n",
              "\n",
              "    .dataframe thead th {\n",
              "        text-align: right;\n",
              "    }\n",
              "</style>\n",
              "<table border=\"1\" class=\"dataframe\">\n",
              "  <thead>\n",
              "    <tr style=\"text-align: right;\">\n",
              "      <th></th>\n",
              "      <th>accuracy</th>\n",
              "      <th>precision</th>\n",
              "      <th>recall</th>\n",
              "      <th>train_time</th>\n",
              "      <th>pred_time</th>\n",
              "    </tr>\n",
              "  </thead>\n",
              "  <tbody>\n",
              "    <tr>\n",
              "      <th>mlp</th>\n",
              "      <td>0.413408</td>\n",
              "      <td>0.206704</td>\n",
              "      <td>0.5</td>\n",
              "      <td>1.767303</td>\n",
              "      <td>0.003470</td>\n",
              "    </tr>\n",
              "    <tr>\n",
              "      <th>mlp_grid</th>\n",
              "      <td>0.413408</td>\n",
              "      <td>0.206704</td>\n",
              "      <td>0.5</td>\n",
              "      <td>328.819567</td>\n",
              "      <td>0.001032</td>\n",
              "    </tr>\n",
              "  </tbody>\n",
              "</table>\n",
              "</div>"
            ],
            "text/plain": [
              "          accuracy  precision  recall  train_time  pred_time\n",
              "mlp       0.413408   0.206704     0.5    1.767303   0.003470\n",
              "mlp_grid  0.413408   0.206704     0.5  328.819567   0.001032"
            ]
          },
          "execution_count": 32,
          "metadata": {},
          "output_type": "execute_result"
        }
      ],
      "source": [
        "dl_metrics = pd.concat([mlp_metrics, mlp_grid_metrics])\n",
        "dl_metrics"
      ]
    },
    {
      "cell_type": "code",
      "execution_count": 35,
      "metadata": {},
      "outputs": [
        {
          "data": {
            "text/html": [
              "<div>\n",
              "<style scoped>\n",
              "    .dataframe tbody tr th:only-of-type {\n",
              "        vertical-align: middle;\n",
              "    }\n",
              "\n",
              "    .dataframe tbody tr th {\n",
              "        vertical-align: top;\n",
              "    }\n",
              "\n",
              "    .dataframe thead th {\n",
              "        text-align: right;\n",
              "    }\n",
              "</style>\n",
              "<table border=\"1\" class=\"dataframe\">\n",
              "  <thead>\n",
              "    <tr style=\"text-align: right;\">\n",
              "      <th></th>\n",
              "      <th>accuracy</th>\n",
              "      <th>precision</th>\n",
              "      <th>recall</th>\n",
              "      <th>train_time</th>\n",
              "      <th>pred_time</th>\n",
              "    </tr>\n",
              "  </thead>\n",
              "  <tbody>\n",
              "    <tr>\n",
              "      <th>rf_grid</th>\n",
              "      <td>0.815642</td>\n",
              "      <td>0.823729</td>\n",
              "      <td>0.794981</td>\n",
              "      <td>18.346162</td>\n",
              "      <td>0.006618</td>\n",
              "    </tr>\n",
              "    <tr>\n",
              "      <th>rf</th>\n",
              "      <td>0.608939</td>\n",
              "      <td>0.661705</td>\n",
              "      <td>0.644723</td>\n",
              "      <td>0.177404</td>\n",
              "      <td>0.008681</td>\n",
              "    </tr>\n",
              "    <tr>\n",
              "      <th>mlp</th>\n",
              "      <td>0.413408</td>\n",
              "      <td>0.206704</td>\n",
              "      <td>0.500000</td>\n",
              "      <td>1.767303</td>\n",
              "      <td>0.003470</td>\n",
              "    </tr>\n",
              "    <tr>\n",
              "      <th>mlp_grid</th>\n",
              "      <td>0.413408</td>\n",
              "      <td>0.206704</td>\n",
              "      <td>0.500000</td>\n",
              "      <td>328.819567</td>\n",
              "      <td>0.001032</td>\n",
              "    </tr>\n",
              "  </tbody>\n",
              "</table>\n",
              "</div>"
            ],
            "text/plain": [
              "          accuracy  precision    recall  train_time  pred_time\n",
              "rf_grid   0.815642   0.823729  0.794981   18.346162   0.006618\n",
              "rf        0.608939   0.661705  0.644723    0.177404   0.008681\n",
              "mlp       0.413408   0.206704  0.500000    1.767303   0.003470\n",
              "mlp_grid  0.413408   0.206704  0.500000  328.819567   0.001032"
            ]
          },
          "execution_count": 35,
          "metadata": {},
          "output_type": "execute_result"
        }
      ],
      "source": [
        "metrics = pd.concat([ml_metrics, dl_metrics])\n",
        "metrics.sort_values(by=\"recall\", ascending=False)"
      ]
    },
    {
      "cell_type": "code",
      "execution_count": 41,
      "metadata": {},
      "outputs": [
        {
          "data": {
            "text/plain": [
              "<sklearn.metrics._plot.confusion_matrix.ConfusionMatrixDisplay at 0x2d2e8509dd0>"
            ]
          },
          "execution_count": 41,
          "metadata": {},
          "output_type": "execute_result"
        },
        {
          "data": {
            "image/png": "[encoded data removed]",
            "text/plain": [
              "<Figure size 640x480 with 2 Axes>"
            ]
          },
          "metadata": {},
          "output_type": "display_data"
        }
      ],
      "source": [
        "cm = confusion_matrix(y_test, mlp.predict(X_test_scaled), labels=mlp.classes_)\n",
        "ConfusionMatrixDisplay(cm, display_labels=mlp.classes_).plot()"
      ]
    },
    {
      "cell_type": "code",
      "execution_count": 42,
      "metadata": {},
      "outputs": [
        {
          "name": "stdout",
          "output_type": "stream",
          "text": [
            "              precision    recall  f1-score   support\n",
            "\n",
            "          no       0.00      0.00      0.00       105\n",
            "         yes       0.41      1.00      0.58        74\n",
            "\n",
            "    accuracy                           0.41       179\n",
            "   macro avg       0.21      0.50      0.29       179\n",
            "weighted avg       0.17      0.41      0.24       179\n",
            "\n"
          ]
        },
        {
          "name": "stderr",
          "output_type": "stream",
          "text": [
            "c:\\Users\\Nur\\AppData\\Local\\Programs\\Python\\Python311\\Lib\\site-packages\\sklearn\\metrics\\_classification.py:1471: UndefinedMetricWarning: Precision and F-score are ill-defined and being set to 0.0 in labels with no predicted samples. Use `zero_division` parameter to control this behavior.\n",
            "  _warn_prf(average, modifier, msg_start, len(result))\n",
            "c:\\Users\\Nur\\AppData\\Local\\Programs\\Python\\Python311\\Lib\\site-packages\\sklearn\\metrics\\_classification.py:1471: UndefinedMetricWarning: Precision and F-score are ill-defined and being set to 0.0 in labels with no predicted samples. Use `zero_division` parameter to control this behavior.\n",
            "  _warn_prf(average, modifier, msg_start, len(result))\n",
            "c:\\Users\\Nur\\AppData\\Local\\Programs\\Python\\Python311\\Lib\\site-packages\\sklearn\\metrics\\_classification.py:1471: UndefinedMetricWarning: Precision and F-score are ill-defined and being set to 0.0 in labels with no predicted samples. Use `zero_division` parameter to control this behavior.\n",
            "  _warn_prf(average, modifier, msg_start, len(result))\n"
          ]
        }
      ],
      "source": [
        "print(classification_report(y_test, mlp.predict(X_test_scaled)))"
      ]
    },
    {
      "cell_type": "code",
      "execution_count": 43,
      "metadata": {},
      "outputs": [
        {
          "data": {
            "text/plain": [
              "alive\n",
              "no     444\n",
              "yes    268\n",
              "Name: count, dtype: int64"
            ]
          },
          "execution_count": 43,
          "metadata": {},
          "output_type": "execute_result"
        }
      ],
      "source": [
        "y_train.value_counts()"
      ]
    },
    {
      "cell_type": "code",
      "execution_count": 44,
      "metadata": {},
      "outputs": [
        {
          "data": {
            "text/plain": [
              "alive\n",
              "no     105\n",
              "yes     74\n",
              "Name: count, dtype: int64"
            ]
          },
          "execution_count": 44,
          "metadata": {},
          "output_type": "execute_result"
        }
      ],
      "source": [
        "y_test.value_counts()"
      ]
    },
    {
      "cell_type": "markdown",
      "metadata": {
        "id": "ZwWeyJYKTh3u"
      },
      "source": [
        "No entiendo muy bien que ha pasado, estaba pensando en que mlp no tiene un class_weight pero es que todas las predicciones se han ido a la clase minoritaria.\n"
      ]
    }
  ],
  "metadata": {
    "colab": {
      "provenance": []
    },
    "kernelspec": {
      "display_name": "Python 3",
      "name": "python3"
    },
    "language_info": {
      "codemirror_mode": {
        "name": "ipython",
        "version": 3
      },
      "file_extension": ".py",
      "mimetype": "text/x-python",
      "name": "python",
      "nbconvert_exporter": "python",
      "pygments_lexer": "ipython3",
      "version": "3.11.3"
    },
    "vscode": {
      "interpreter": {
        "hash": "90139cb9a825bf3d63f6f6704e828dbd1ff7edbd4d0c6e906a71235d6efc74af"
      }
    }
  },
  "nbformat": 4,
  "nbformat_minor": 0
}
